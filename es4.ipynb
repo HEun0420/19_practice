{
 "cells": [
  {
   "cell_type": "code",
   "execution_count": 1,
   "metadata": {},
   "outputs": [
    {
     "data": {
      "text/plain": [
       "True"
      ]
     },
     "execution_count": 1,
     "metadata": {},
     "output_type": "execute_result"
    }
   ],
   "source": [
    "from dotenv import load_dotenv\n",
    "\n",
    "load_dotenv()"
   ]
  },
  {
   "cell_type": "code",
   "execution_count": 2,
   "metadata": {},
   "outputs": [
    {
     "data": {
      "text/plain": [
       "FileObject(id='file-5Lt0YfCm33W8hWUiFh87cy9b', bytes=2021, created_at=1731462192, filename='fine_tune_data.jsonl', object='file', purpose='fine-tune', status='processed', status_details=None)"
      ]
     },
     "execution_count": 2,
     "metadata": {},
     "output_type": "execute_result"
    }
   ],
   "source": [
    "from openai import OpenAI\n",
    "client = OpenAI()\n",
    "\n",
    "client.files.create(\n",
    "    file=open(\"fine_tune_data.jsonl\", \"rb\"),\n",
    "    purpose=\"fine-tune\"\n",
    ")"
   ]
  },
  {
   "cell_type": "code",
   "execution_count": 3,
   "metadata": {},
   "outputs": [
    {
     "data": {
      "text/plain": [
       "FineTuningJob(id='ftjob-RpBc8Jyu9qDBDl8hRTGIJIks', created_at=1731462194, error=Error(code=None, message=None, param=None), fine_tuned_model=None, finished_at=None, hyperparameters=Hyperparameters(n_epochs=5, batch_size=1, learning_rate_multiplier='auto'), model='gpt-4o-mini-2024-07-18', object='fine_tuning.job', organization_id='org-SR6udEHw90r4npPA3Jwg9OF5', result_files=[], seed=1287031481, status='validating_files', trained_tokens=None, training_file='file-lfbtfYBWPuxo0gQCquVoyLVd', validation_file=None, estimated_finish=None, integrations=[], user_provided_suffix=None)"
      ]
     },
     "execution_count": 3,
     "metadata": {},
     "output_type": "execute_result"
    }
   ],
   "source": [
    "from openai import OpenAI\n",
    "client = OpenAI()\n",
    "\n",
    "response = client.fine_tuning.jobs.create(\n",
    "    training_file=\"file-lfbtfYBWPuxo0gQCquVoyLVd\",\n",
    "    model=\"gpt-4o-mini-2024-07-18\", \n",
    "    hyperparameters={\n",
    "    \"n_epochs\":5,\n",
    "    \"batch_size\": 1\n",
    "    }\n",
    ")\n",
    "\n",
    "response"
   ]
  },
  {
   "cell_type": "code",
   "execution_count": 4,
   "metadata": {},
   "outputs": [
    {
     "data": {
      "text/plain": [
       "FineTuningJob(id='ftjob-bf6uHCVkL8lGSqosqIWni8UD', created_at=1731399921, error=Error(code=None, message=None, param=None), fine_tuned_model='ft:gpt-4o-mini-2024-07-18:ohgriaffers::ASgaFv8T', finished_at=1731400237, hyperparameters=Hyperparameters(n_epochs=5, batch_size=1, learning_rate_multiplier=1.8), model='gpt-4o-mini-2024-07-18', object='fine_tuning.job', organization_id='org-SR6udEHw90r4npPA3Jwg9OF5', result_files=['file-fJfVPizvClcOM9sH18W0CFhf'], seed=1762879134, status='succeeded', trained_tokens=2045, training_file='file-lfbtfYBWPuxo0gQCquVoyLVd', validation_file=None, estimated_finish=None, integrations=[], user_provided_suffix=None)"
      ]
     },
     "execution_count": 4,
     "metadata": {},
     "output_type": "execute_result"
    }
   ],
   "source": [
    "client.fine_tuning.jobs.retrieve(\"ftjob-bf6uHCVkL8lGSqosqIWni8UD\")"
   ]
  },
  {
   "cell_type": "code",
   "execution_count": 1,
   "metadata": {},
   "outputs": [
    {
     "name": "stdout",
     "output_type": "stream",
     "text": [
      "낮이 여기면 어땠겠... 하죠?\n"
     ]
    }
   ],
   "source": [
    "from openai import OpenAI\n",
    "client = OpenAI()\n",
    "\n",
    "response = client.chat.completions.create(\n",
    "    model=\"ft:gpt-4o-mini-2024-07-18:ohgriaffers::ASgaFv8T\",\n",
    "    messages=[\n",
    "    # { \"role\": \"system\", \"content\": \"\"\"\n",
    "    # 프롬프트 작성\n",
    "    # \"\"\" },\n",
    "    { \"role\": \"user\", \"content\": \"\"\"\n",
    "    낮의 너는 어때?\n",
    "    \"\"\" }]\n",
    ")\n",
    "\n",
    "print(response.choices[0].message.content.strip())"
   ]
  },
  {
   "cell_type": "code",
   "execution_count": null,
   "metadata": {},
   "outputs": [],
   "source": []
  }
 ],
 "metadata": {
  "kernelspec": {
   "display_name": "langchain",
   "language": "python",
   "name": "python3"
  },
  "language_info": {
   "codemirror_mode": {
    "name": "ipython",
    "version": 3
   },
   "file_extension": ".py",
   "mimetype": "text/x-python",
   "name": "python",
   "nbconvert_exporter": "python",
   "pygments_lexer": "ipython3",
   "version": "3.11.0"
  }
 },
 "nbformat": 4,
 "nbformat_minor": 2
}

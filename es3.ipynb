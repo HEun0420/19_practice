{
 "cells": [
  {
   "cell_type": "code",
   "execution_count": 1,
   "metadata": {},
   "outputs": [
    {
     "name": "stdout",
     "output_type": "stream",
     "text": [
      "Requirement already satisfied: openai in c:\\users\\20111\\appdata\\local\\miniforge3\\envs\\langchain\\lib\\site-packages (1.54.3)\n",
      "Requirement already satisfied: anyio<5,>=3.5.0 in c:\\users\\20111\\appdata\\local\\miniforge3\\envs\\langchain\\lib\\site-packages (from openai) (4.6.2.post1)\n",
      "Requirement already satisfied: distro<2,>=1.7.0 in c:\\users\\20111\\appdata\\local\\miniforge3\\envs\\langchain\\lib\\site-packages (from openai) (1.9.0)\n",
      "Requirement already satisfied: httpx<1,>=0.23.0 in c:\\users\\20111\\appdata\\local\\miniforge3\\envs\\langchain\\lib\\site-packages (from openai) (0.27.2)\n",
      "Requirement already satisfied: jiter<1,>=0.4.0 in c:\\users\\20111\\appdata\\local\\miniforge3\\envs\\langchain\\lib\\site-packages (from openai) (0.6.1)\n",
      "Requirement already satisfied: pydantic<3,>=1.9.0 in c:\\users\\20111\\appdata\\local\\miniforge3\\envs\\langchain\\lib\\site-packages (from openai) (2.9.2)\n",
      "Requirement already satisfied: sniffio in c:\\users\\20111\\appdata\\local\\miniforge3\\envs\\langchain\\lib\\site-packages (from openai) (1.3.1)\n",
      "Requirement already satisfied: tqdm>4 in c:\\users\\20111\\appdata\\local\\miniforge3\\envs\\langchain\\lib\\site-packages (from openai) (4.66.5)\n",
      "Requirement already satisfied: typing-extensions<5,>=4.11 in c:\\users\\20111\\appdata\\local\\miniforge3\\envs\\langchain\\lib\\site-packages (from openai) (4.12.2)\n",
      "Requirement already satisfied: idna>=2.8 in c:\\users\\20111\\appdata\\local\\miniforge3\\envs\\langchain\\lib\\site-packages (from anyio<5,>=3.5.0->openai) (3.10)\n",
      "Requirement already satisfied: certifi in c:\\users\\20111\\appdata\\local\\miniforge3\\envs\\langchain\\lib\\site-packages (from httpx<1,>=0.23.0->openai) (2024.8.30)\n",
      "Requirement already satisfied: httpcore==1.* in c:\\users\\20111\\appdata\\local\\miniforge3\\envs\\langchain\\lib\\site-packages (from httpx<1,>=0.23.0->openai) (1.0.6)\n",
      "Requirement already satisfied: h11<0.15,>=0.13 in c:\\users\\20111\\appdata\\local\\miniforge3\\envs\\langchain\\lib\\site-packages (from httpcore==1.*->httpx<1,>=0.23.0->openai) (0.14.0)\n",
      "Requirement already satisfied: annotated-types>=0.6.0 in c:\\users\\20111\\appdata\\local\\miniforge3\\envs\\langchain\\lib\\site-packages (from pydantic<3,>=1.9.0->openai) (0.7.0)\n",
      "Requirement already satisfied: pydantic-core==2.23.4 in c:\\users\\20111\\appdata\\local\\miniforge3\\envs\\langchain\\lib\\site-packages (from pydantic<3,>=1.9.0->openai) (2.23.4)\n",
      "Requirement already satisfied: colorama in c:\\users\\20111\\appdata\\local\\miniforge3\\envs\\langchain\\lib\\site-packages (from tqdm>4->openai) (0.4.6)\n"
     ]
    }
   ],
   "source": [
    "!pip install --upgrade openai\n"
   ]
  },
  {
   "cell_type": "code",
   "execution_count": 2,
   "metadata": {},
   "outputs": [
    {
     "name": "stdout",
     "output_type": "stream",
     "text": [
      "Requirement already satisfied: nest_asyncio in c:\\users\\20111\\appdata\\local\\miniforge3\\envs\\langchain\\lib\\site-packages (1.6.0)\n"
     ]
    }
   ],
   "source": [
    "!pip install nest_asyncio\n"
   ]
  },
  {
   "cell_type": "code",
   "execution_count": 14,
   "metadata": {},
   "outputs": [
    {
     "name": "stdout",
     "output_type": "stream",
     "text": [
      "파일이 성공적으로 업로드되었습니다. 파일 ID: file-1cFpDdgzV8EMFfKORdQqkJIn\n"
     ]
    },
    {
     "ename": "AttributeError",
     "evalue": "'OpenAI' object has no attribute 'finetune'",
     "output_type": "error",
     "traceback": [
      "\u001b[1;31m---------------------------------------------------------------------------\u001b[0m",
      "\u001b[1;31mAttributeError\u001b[0m                            Traceback (most recent call last)",
      "Cell \u001b[1;32mIn[14], line 67\u001b[0m\n\u001b[0;32m     64\u001b[0m     \u001b[38;5;28mprint\u001b[39m(response[\u001b[38;5;124m\"\u001b[39m\u001b[38;5;124mchoices\u001b[39m\u001b[38;5;124m\"\u001b[39m][\u001b[38;5;241m0\u001b[39m][\u001b[38;5;124m\"\u001b[39m\u001b[38;5;124mmessage\u001b[39m\u001b[38;5;124m\"\u001b[39m][\u001b[38;5;124m\"\u001b[39m\u001b[38;5;124mcontent\u001b[39m\u001b[38;5;124m\"\u001b[39m])\n\u001b[0;32m     66\u001b[0m \u001b[38;5;66;03m# main() 함수 실행\u001b[39;00m\n\u001b[1;32m---> 67\u001b[0m \u001b[43mmain\u001b[49m\u001b[43m(\u001b[49m\u001b[43m)\u001b[49m\n",
      "Cell \u001b[1;32mIn[14], line 39\u001b[0m, in \u001b[0;36mmain\u001b[1;34m()\u001b[0m\n\u001b[0;32m     36\u001b[0m \u001b[38;5;28mprint\u001b[39m(\u001b[38;5;124mf\u001b[39m\u001b[38;5;124m\"\u001b[39m\u001b[38;5;124m파일이 성공적으로 업로드되었습니다. 파일 ID: \u001b[39m\u001b[38;5;132;01m{\u001b[39;00mfile_id\u001b[38;5;132;01m}\u001b[39;00m\u001b[38;5;124m\"\u001b[39m)\n\u001b[0;32m     38\u001b[0m \u001b[38;5;66;03m# Fine-tuning 작업 시작\u001b[39;00m\n\u001b[1;32m---> 39\u001b[0m fine_tune_response \u001b[38;5;241m=\u001b[39m \u001b[43mclient\u001b[49m\u001b[38;5;241;43m.\u001b[39;49m\u001b[43mfinetune\u001b[49m\u001b[38;5;241m.\u001b[39mcreate(training_file\u001b[38;5;241m=\u001b[39mfile_id, model\u001b[38;5;241m=\u001b[39m\u001b[38;5;124m\"\u001b[39m\u001b[38;5;124mgpt-4-mini\u001b[39m\u001b[38;5;124m\"\u001b[39m)  \u001b[38;5;66;03m# Fine-tune 생성\u001b[39;00m\n\u001b[0;32m     40\u001b[0m fine_tune_job_id \u001b[38;5;241m=\u001b[39m fine_tune_response[\u001b[38;5;124m\"\u001b[39m\u001b[38;5;124mid\u001b[39m\u001b[38;5;124m\"\u001b[39m]\n\u001b[0;32m     41\u001b[0m \u001b[38;5;28mprint\u001b[39m(\u001b[38;5;124mf\u001b[39m\u001b[38;5;124m\"\u001b[39m\u001b[38;5;124mFine-tuning 작업이 시작되었습니다. 작업 ID: \u001b[39m\u001b[38;5;132;01m{\u001b[39;00mfine_tune_job_id\u001b[38;5;132;01m}\u001b[39;00m\u001b[38;5;124m\"\u001b[39m)\n",
      "\u001b[1;31mAttributeError\u001b[0m: 'OpenAI' object has no attribute 'finetune'"
     ]
    }
   ],
   "source": [
    "import os\n",
    "import json\n",
    "import time\n",
    "from openai import OpenAI\n",
    "from dotenv import load_dotenv\n",
    "\n",
    "# .env 파일에서 API 키를 로드\n",
    "load_dotenv()\n",
    "api_key = os.getenv(\"OPENAI_API_KEY\")\n",
    "\n",
    "# OpenAI 클라이언트 초기화\n",
    "client = OpenAI(api_key=api_key)\n",
    "\n",
    "# Fine-tuning 및 예측 프로세스를 실행하는 함수 정의\n",
    "def main():\n",
    "    # 훈련 데이터를 준비하고 .jsonl 파일로 저장\n",
    "    data = [\n",
    "        {\"messages\": [{\"role\": \"system\", \"content\": \"에스카노르처럼 답변해줘.\"}, {\"role\": \"user\", \"content\": \"낮의 에스카노르는 어떤 성격인가요?\"}], \"completion\": \"낮의 에스카노르는 오만하고 자신감 넘치며 강력합니다.\"},\n",
    "        {\"messages\": [{\"role\": \"system\", \"content\": \"에스카노르처럼 답변해줘.\"}, {\"role\": \"user\", \"content\": \"밤의 에스카노르는 어떤 성격인가요?\"}], \"completion\": \"밤에는 에스카노르가 소심해지고 공손하게 말합니다.\"},\n",
    "        # 필요에 따라 데이터를 추가하세요...\n",
    "    ]\n",
    "\n",
    "    # 데이터를 .jsonl 파일로 저장\n",
    "    file_path = \"fine_tune_data.jsonl\"\n",
    "    with open(file_path, \"w\", encoding=\"utf-8\") as f:\n",
    "        for entry in data:\n",
    "            json.dump(entry, f, ensure_ascii=False)\n",
    "            f.write(\"\\n\")\n",
    "\n",
    "    # 파일을 동기식으로 업로드하고 파일 ID를 가져옴\n",
    "    with open(file_path, \"rb\") as file:\n",
    "        upload_response = client.files.create(file=file, purpose=\"fine-tune\")  # 동기식 처리\n",
    "    \n",
    "    # upload_response는 FileObject 객체이므로, .id 속성으로 접근\n",
    "    file_id = upload_response.id  # FileObject에서 id 속성으로 접근\n",
    "    print(f\"파일이 성공적으로 업로드되었습니다. 파일 ID: {file_id}\")\n",
    "\n",
    "    # Fine-tuning 작업 시작\n",
    "    fine_tune_response = client.finetune.create(training_file=file_id, model=\"gpt-4-mini\")  # Fine-tune 생성\n",
    "    fine_tune_job_id = fine_tune_response[\"id\"]\n",
    "    print(f\"Fine-tuning 작업이 시작되었습니다. 작업 ID: {fine_tune_job_id}\")\n",
    "\n",
    "    # Fine-tuning 상태를 주기적으로 확인하며 완료될 때까지 대기\n",
    "    while True:\n",
    "        status_response = client.finetune.retrieve(id=fine_tune_job_id)  # 상태 확인\n",
    "        status = status_response[\"status\"]\n",
    "        print(f\"Fine-tuning 작업 상태: {status}\")\n",
    "        if status == \"succeeded\":\n",
    "            break\n",
    "        elif status == \"failed\":\n",
    "            raise Exception(\"Fine-tuning 작업이 실패했습니다.\")\n",
    "        time.sleep(10)  # 동기식으로 대기\n",
    "\n",
    "    # Fine-tuning 완료 후 모델 이름 확인\n",
    "    fine_tuned_model = status_response[\"fine_tuned_model\"]\n",
    "    print(f\"Fine-tuning 완료! 새 모델 이름: {fine_tuned_model}\")\n",
    "\n",
    "    # Fine-tuned 모델로 예측 수행\n",
    "    response = client.chat.completions.create(\n",
    "        model=fine_tuned_model,\n",
    "        messages=[{\"role\": \"user\", \"content\": \"낮의 에스카노르는 어떤 성격인가요?\"}]\n",
    "    )\n",
    "\n",
    "    print(response[\"choices\"][0][\"message\"][\"content\"])\n",
    "\n",
    "# main() 함수 실행\n",
    "main()\n"
   ]
  }
 ],
 "metadata": {
  "kernelspec": {
   "display_name": "langchain",
   "language": "python",
   "name": "python3"
  },
  "language_info": {
   "codemirror_mode": {
    "name": "ipython",
    "version": 3
   },
   "file_extension": ".py",
   "mimetype": "text/x-python",
   "name": "python",
   "nbconvert_exporter": "python",
   "pygments_lexer": "ipython3",
   "version": "3.11.0"
  }
 },
 "nbformat": 4,
 "nbformat_minor": 2
}

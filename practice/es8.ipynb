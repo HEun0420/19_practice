{
 "cells": [
  {
   "cell_type": "code",
   "execution_count": 1,
   "metadata": {},
   "outputs": [
    {
     "data": {
      "text/plain": [
       "True"
      ]
     },
     "execution_count": 1,
     "metadata": {},
     "output_type": "execute_result"
    }
   ],
   "source": [
    "import os\n",
    "from langchain_redis import RedisVectorStore\n",
    "from langchain_openai import OpenAIEmbeddings\n",
    "from langchain.docstore.document import Document\n",
    "from dotenv import load_dotenv\n",
    "\n",
    "load_dotenv()\n",
    "\n"
   ]
  },
  {
   "cell_type": "code",
   "execution_count": 2,
   "metadata": {},
   "outputs": [
    {
     "name": "stdout",
     "output_type": "stream",
     "text": [
      "\n",
      "질문: 오대산의 산신령은 홍주연이래\n",
      "🍳장기기억을 사용하여 질문에 답변합니다.\n"
     ]
    },
    {
     "name": "stderr",
     "output_type": "stream",
     "text": [
      "C:\\Users\\20111\\AppData\\Local\\Temp\\ipykernel_4044\\2840789469.py:47: LangChainDeprecationWarning: The method `Chain.run` was deprecated in langchain 0.1.0 and will be removed in 1.0. Use :meth:`~invoke` instead.\n",
      "  response = qa_chain.run(query)\n"
     ]
    },
    {
     "name": "stdout",
     "output_type": "stream",
     "text": [
      "질문: 오대산의 산신령은 홍주연이래\n",
      "답변:  I'm sorry, I don't know who 홍주연 is or what the context of this sentence is.\n",
      "문서 저장됨: 사용자가 묻은 질문: 오대산의 산신령은 홍주연이래. 답변:  I'm sorry, I don't know who 홍주연 is or what the context of this sentence is....\n",
      "\n",
      "질문: 오대산의 산신령이 누구라고?\n",
      "🍳장기기억을 사용하여 질문에 답변합니다.\n",
      "질문: 오대산의 산신령이 누구라고?\n",
      "답변:  I don't know, but it seems like 홍주연 might have some connection to the 산신령 at 오대산.\n",
      "문서 저장됨: 사용자가 묻은 질문: 오대산의 산신령이 누구라고?. 답변:  I don't know, but it seems like 홍주연 might have some connection to the 산신령 at 오대산....\n",
      "\n",
      "질문: 오늘 점심은 김치짬뽕이야\n",
      "🍕장기기억을 사용하지 않고 새로 처리합니다.\n",
      "문서 저장됨: 사용자가 묻은 질문: 오늘 점심은 김치짬뽕이야. 답변: 새로운 질문: '오늘 점심은 김치짬뽕이야'에 대한 답변입니다....\n",
      "\n",
      "질문: 오늘 점심은 뭐라고?\n",
      "🍕장기기억을 사용하지 않고 새로 처리합니다.\n",
      "문서 저장됨: 사용자가 묻은 질문: 오늘 점심은 뭐라고?. 답변: 새로운 질문: '오늘 점심은 뭐라고?'에 대한 답변입니다....\n"
     ]
    }
   ],
   "source": [
    "## 키워드로 장기/단기로 나누기\n",
    "\n",
    "import os\n",
    "from langchain.chains import RetrievalQA\n",
    "from langchain_openai import OpenAIEmbeddings\n",
    "from langchain_openai import OpenAI\n",
    "from langchain_redis import RedisVectorStore\n",
    "from langchain.docstore.document import Document\n",
    "from dotenv import load_dotenv\n",
    "\n",
    "# .env 파일에서 환경 변수 로드\n",
    "load_dotenv()\n",
    "\n",
    "# 환경 변수에서 값 가져오기\n",
    "REDIS_URL = os.getenv('REDIS_URL')\n",
    "OPENAI_API_KEY = os.getenv(\"OPENAI_API_KEY\")\n",
    "\n",
    "# OpenAI Embeddings 설정\n",
    "embeddings = OpenAIEmbeddings(openai_api_key=OPENAI_API_KEY)\n",
    "\n",
    "# RedisVectorStore 설정 (embeddings 객체를 직접 전달)\n",
    "redis_vector_store = RedisVectorStore(redis_url=REDIS_URL, embeddings=embeddings)\n",
    "\n",
    "# OpenAI LLM 설정\n",
    "llm = OpenAI(openai_api_key=OPENAI_API_KEY)\n",
    "\n",
    "# 문서를 Redis에 저장하는 함수\n",
    "def save_document_to_redis(text, metadata=None):\n",
    "    # 문서 생성 (metadata를 빈 딕셔너리로 전달)\n",
    "    if metadata is None:\n",
    "        metadata = {}\n",
    "    document = Document(page_content=text, metadata=metadata)\n",
    "    redis_vector_store.add_documents([document])\n",
    "    print(f\"문서 저장됨: {text}...\")  # 첫 50자만 출력하여 확인\n",
    "\n",
    "# Query Routing: 사용자의 쿼리에 따라 적절한 저장소에서 응답을 생성하는 함수\n",
    "def query_routing(query):\n",
    "    retriever = redis_vector_store.as_retriever()\n",
    "\n",
    "    # RetrievalQA 체인 설정\n",
    "    qa_chain = RetrievalQA.from_chain_type(\n",
    "        llm=llm,\n",
    "        retriever=retriever\n",
    "    )\n",
    "\n",
    "    # 질의에 대한 답변 가져오기\n",
    "    response = qa_chain.run(query)\n",
    "    print(f\"질문: {query}\")\n",
    "    print(f\"답변: {response}\")  # 답변을 출력\n",
    "    return response\n",
    "\n",
    "# 사용자 메시지에 따라 장기기억을 사용할지 판단하는 함수\n",
    "def should_use_long_term_memory(query):\n",
    "    # 예시: 사용자가 \"오대산\" 또는 \"산신령\" 관련 질문을 했다면 장기기억을 사용하도록 설정\n",
    "    if \"오대산\" in query or \"산신령\" in query:\n",
    "        return True\n",
    "    return False\n",
    "\n",
    "# 사용자와의 대화 예시: 기억을 기반으로 질문과 답변을 이어나가도록 설계\n",
    "def long_term_memory_conversation(queries):\n",
    "    for query in queries:\n",
    "        print(f\"\\n질문: {query}\")\n",
    "        \n",
    "        # 사용자가 장기기억을 사용해야 하는지 판단\n",
    "        if should_use_long_term_memory(query):\n",
    "            print(\"🍳장기기억을 사용하여 질문에 답변합니다.\")\n",
    "            response = query_routing(query)  # Redis에서 쿼리 검색\n",
    "        else:\n",
    "            print(\"🍕장기기억을 사용하지 않고 새로 처리합니다.\")\n",
    "            response = f\"새로운 질문: '{query}'에 대한 답변입니다.\"\n",
    "        \n",
    "        # 답변을 저장\n",
    "        save_document_to_redis(f\"사용자가 묻은 질문: {query}. 답변: {response}\")\n",
    "\n",
    "# 예시 대화: 첫 번째와 두 번째 질문\n",
    "queries = [\n",
    "    \"오대산의 산신령은 홍주연이래\",  # 장기기억 사용\n",
    "    \"오대산의 산신령이 누구라고?\",  # 장기기억 사용\n",
    "    \"오늘 점심은 김치짬뽕이야\",  # 장기기억 미사용\n",
    "    \"오늘 점심은 뭐라고?\"\n",
    "]\n",
    "\n",
    "long_term_memory_conversation(queries)\n"
   ]
  },
  {
   "cell_type": "code",
   "execution_count": 74,
   "metadata": {},
   "outputs": [],
   "source": [
    "## 별 의미 없는거 물어보기\n",
    "\n",
    "queries = [\n",
    "    \"오늘 점심은 김치짬뽕이야\",  # 장기기억 미사용\n",
    "    \"오늘 점심은 뭐라고?\"\n",
    "]"
   ]
  },
  {
   "cell_type": "code",
   "execution_count": 3,
   "metadata": {},
   "outputs": [
    {
     "name": "stdout",
     "output_type": "stream",
     "text": [
      "모든 키: [b'01JDH7ATCJ114T57YVG0QN8V01:5ff427c18d2a4fe688d8bce5f126e295', b'01JDH7CDS87703WQ4WBD36ECYF:cb4f7bdc1e5f464bb5fe576522fe9313', b'01JDH7CDS87703WQ4WBD36ECYF:bd364d364bda458d80867617eb26557f', b'01JDH7CDS87703WQ4WBD36ECYF:070ac49ff7d94c30a4a5e5233c01e234', b'01JDH7CDS87703WQ4WBD36ECYF:f5c32374ed30493b985097b39589cf93']\n"
     ]
    }
   ],
   "source": [
    "import redis\n",
    "from dotenv import load_dotenv\n",
    "import os\n",
    "\n",
    "# .env 파일에서 환경 변수 로드\n",
    "load_dotenv()\n",
    "\n",
    "# Redis 서버의 비밀번호를 .env 파일에서 불러오기\n",
    "REDIS_PASSWORD = os.getenv('REDIS_PASSWORD')\n",
    "\n",
    "# Redis 클라이언트 설정 (비밀번호 추가)\n",
    "r = redis.Redis(host='localhost', port=6379, db=0, password=REDIS_PASSWORD)\n",
    "\n",
    "# 저장된 키 확인\n",
    "keys = r.keys('*')  # 모든 키 조회\n",
    "print(\"모든 키:\", keys)\n"
   ]
  },
  {
   "cell_type": "code",
   "execution_count": 4,
   "metadata": {},
   "outputs": [
    {
     "name": "stdout",
     "output_type": "stream",
     "text": [
      "전체 Redis 데이터가 삭제되었습니다.\n"
     ]
    }
   ],
   "source": [
    "import redis\n",
    "from dotenv import load_dotenv\n",
    "import os\n",
    "\n",
    "# .env 파일에서 환경 변수 로드\n",
    "load_dotenv()\n",
    "\n",
    "# Redis 서버의 비밀번호를 .env 파일에서 불러오기\n",
    "REDIS_PASSWORD = os.getenv('REDIS_PASSWORD')\n",
    "\n",
    "# Redis 클라이언트 설정 (비밀번호 추가)\n",
    "r = redis.Redis(host='localhost', port=6379, db=0, password=REDIS_PASSWORD)\n",
    "\n",
    "# 전체 데이터 삭제\n",
    "r.flushdb()\n",
    "print(\"전체 Redis 데이터가 삭제되었습니다.\")\n",
    "\n",
    "# 특정 데이터 삭제\n",
    "# r.delete('long_term_memory')\n",
    "# print(\"특정 키('long_term_memory')가 삭제되었습니다.\")\n",
    "\n"
   ]
  },
  {
   "cell_type": "code",
   "execution_count": null,
   "metadata": {},
   "outputs": [],
   "source": []
  },
  {
   "cell_type": "code",
   "execution_count": null,
   "metadata": {},
   "outputs": [],
   "source": []
  },
  {
   "cell_type": "code",
   "execution_count": null,
   "metadata": {},
   "outputs": [],
   "source": []
  },
  {
   "cell_type": "code",
   "execution_count": null,
   "metadata": {},
   "outputs": [],
   "source": []
  }
 ],
 "metadata": {
  "kernelspec": {
   "display_name": "langchain",
   "language": "python",
   "name": "python3"
  },
  "language_info": {
   "codemirror_mode": {
    "name": "ipython",
    "version": 3
   },
   "file_extension": ".py",
   "mimetype": "text/x-python",
   "name": "python",
   "nbconvert_exporter": "python",
   "pygments_lexer": "ipython3",
   "version": "3.11.0"
  }
 },
 "nbformat": 4,
 "nbformat_minor": 2
}
